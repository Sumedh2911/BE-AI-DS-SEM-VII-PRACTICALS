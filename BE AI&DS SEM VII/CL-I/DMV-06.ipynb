{
 "cells": [
  {
   "cell_type": "code",
   "execution_count": null,
   "id": "45fd0240-cdd0-4ca7-bbeb-39384bce95e4",
   "metadata": {},
   "outputs": [],
   "source": [
    "Name - Dhangar Sumedh Dilip\n",
    "Class - BE Artificial Intelligence & Data Science.\n",
    "Roll No - 15\n",
    "Title - Data Aggregation.\n",
    "        Analyzing Sales Performance by Region in a Retail Company."
   ]
  },
  {
   "cell_type": "code",
   "execution_count": 1,
   "id": "8abdfb63-0bf7-4256-8b1b-ab626fa7a055",
   "metadata": {},
   "outputs": [],
   "source": [
    "# Step No.1 - Import the Dataset."
   ]
  },
  {
   "cell_type": "code",
   "execution_count": 2,
   "id": "b8e6beeb-1256-4a0c-8943-31ee97704524",
   "metadata": {},
   "outputs": [],
   "source": [
    "import pandas as pd\n",
    "import numpy as np"
   ]
  },
  {
   "cell_type": "code",
   "execution_count": 5,
   "id": "f42843f9-4d47-44a4-bf97-b1e0e08a6514",
   "metadata": {},
   "outputs": [],
   "source": [
    "df = pd.read_csv(r\"C:\\Users\\dhangarsumedh\\Downloads\\Retail_Sales_Data (1).csv\")"
   ]
  },
  {
   "cell_type": "code",
   "execution_count": 6,
   "id": "a1af8f49-de47-47e6-9031-0e61ab1303f2",
   "metadata": {},
   "outputs": [
    {
     "data": {
      "text/html": [
       "<div>\n",
       "<style scoped>\n",
       "    .dataframe tbody tr th:only-of-type {\n",
       "        vertical-align: middle;\n",
       "    }\n",
       "\n",
       "    .dataframe tbody tr th {\n",
       "        vertical-align: top;\n",
       "    }\n",
       "\n",
       "    .dataframe thead th {\n",
       "        text-align: right;\n",
       "    }\n",
       "</style>\n",
       "<table border=\"1\" class=\"dataframe\">\n",
       "  <thead>\n",
       "    <tr style=\"text-align: right;\">\n",
       "      <th></th>\n",
       "      <th>Transaction Date</th>\n",
       "      <th>Region</th>\n",
       "      <th>Product Category</th>\n",
       "      <th>Quantity Sold</th>\n",
       "      <th>Sales Amount</th>\n",
       "      <th>Customer Name</th>\n",
       "      <th>Transaction ID</th>\n",
       "      <th>Payment Method</th>\n",
       "    </tr>\n",
       "  </thead>\n",
       "  <tbody>\n",
       "    <tr>\n",
       "      <th>0</th>\n",
       "      <td>2019-01-16</td>\n",
       "      <td>West</td>\n",
       "      <td>Home Decor</td>\n",
       "      <td>9</td>\n",
       "      <td>909.84</td>\n",
       "      <td>Melinda Pham</td>\n",
       "      <td>7b094307-bcd3-4f16-84a7-2bca783fff4f</td>\n",
       "      <td>Credit Card</td>\n",
       "    </tr>\n",
       "    <tr>\n",
       "      <th>1</th>\n",
       "      <td>2021-09-17</td>\n",
       "      <td>North</td>\n",
       "      <td>Clothing</td>\n",
       "      <td>8</td>\n",
       "      <td>900.29</td>\n",
       "      <td>Shelly Perez</td>\n",
       "      <td>fb437a2e-4ebf-4807-b84e-f2dfae83541a</td>\n",
       "      <td>Credit Card</td>\n",
       "    </tr>\n",
       "    <tr>\n",
       "      <th>2</th>\n",
       "      <td>2020-03-27</td>\n",
       "      <td>East</td>\n",
       "      <td>Electronics</td>\n",
       "      <td>3</td>\n",
       "      <td>506.07</td>\n",
       "      <td>Scott White</td>\n",
       "      <td>b6ead965-ed1c-4bdc-95ac-864685467abd</td>\n",
       "      <td>Online Banking</td>\n",
       "    </tr>\n",
       "    <tr>\n",
       "      <th>3</th>\n",
       "      <td>2019-02-11</td>\n",
       "      <td>South</td>\n",
       "      <td>Clothing</td>\n",
       "      <td>9</td>\n",
       "      <td>744.70</td>\n",
       "      <td>Gloria Williams</td>\n",
       "      <td>400773f4-a820-47b6-b3c4-2cc2a5467e73</td>\n",
       "      <td>Cash</td>\n",
       "    </tr>\n",
       "    <tr>\n",
       "      <th>4</th>\n",
       "      <td>2020-01-15</td>\n",
       "      <td>East</td>\n",
       "      <td>Books</td>\n",
       "      <td>4</td>\n",
       "      <td>245.55</td>\n",
       "      <td>Michael Sims</td>\n",
       "      <td>10b62e7a-38f8-4f27-a989-b99b55d76223</td>\n",
       "      <td>Cash</td>\n",
       "    </tr>\n",
       "  </tbody>\n",
       "</table>\n",
       "</div>"
      ],
      "text/plain": [
       "  Transaction Date Region Product Category  Quantity Sold  Sales Amount  \\\n",
       "0       2019-01-16   West       Home Decor              9        909.84   \n",
       "1       2021-09-17  North         Clothing              8        900.29   \n",
       "2       2020-03-27   East      Electronics              3        506.07   \n",
       "3       2019-02-11  South         Clothing              9        744.70   \n",
       "4       2020-01-15   East            Books              4        245.55   \n",
       "\n",
       "     Customer Name                        Transaction ID  Payment Method  \n",
       "0     Melinda Pham  7b094307-bcd3-4f16-84a7-2bca783fff4f     Credit Card  \n",
       "1     Shelly Perez  fb437a2e-4ebf-4807-b84e-f2dfae83541a     Credit Card  \n",
       "2      Scott White  b6ead965-ed1c-4bdc-95ac-864685467abd  Online Banking  \n",
       "3  Gloria Williams  400773f4-a820-47b6-b3c4-2cc2a5467e73            Cash  \n",
       "4     Michael Sims  10b62e7a-38f8-4f27-a989-b99b55d76223            Cash  "
      ]
     },
     "execution_count": 6,
     "metadata": {},
     "output_type": "execute_result"
    }
   ],
   "source": [
    "df.head()\n"
   ]
  },
  {
   "cell_type": "code",
   "execution_count": 7,
   "id": "88ea569f-8f57-4438-9f96-bb0d8e057f71",
   "metadata": {},
   "outputs": [
    {
     "data": {
      "text/html": [
       "<div>\n",
       "<style scoped>\n",
       "    .dataframe tbody tr th:only-of-type {\n",
       "        vertical-align: middle;\n",
       "    }\n",
       "\n",
       "    .dataframe tbody tr th {\n",
       "        vertical-align: top;\n",
       "    }\n",
       "\n",
       "    .dataframe thead th {\n",
       "        text-align: right;\n",
       "    }\n",
       "</style>\n",
       "<table border=\"1\" class=\"dataframe\">\n",
       "  <thead>\n",
       "    <tr style=\"text-align: right;\">\n",
       "      <th></th>\n",
       "      <th>Transaction Date</th>\n",
       "      <th>Region</th>\n",
       "      <th>Product Category</th>\n",
       "      <th>Quantity Sold</th>\n",
       "      <th>Sales Amount</th>\n",
       "      <th>Customer Name</th>\n",
       "      <th>Transaction ID</th>\n",
       "      <th>Payment Method</th>\n",
       "    </tr>\n",
       "  </thead>\n",
       "  <tbody>\n",
       "    <tr>\n",
       "      <th>95</th>\n",
       "      <td>2020-06-26</td>\n",
       "      <td>East</td>\n",
       "      <td>Electronics</td>\n",
       "      <td>3</td>\n",
       "      <td>914.06</td>\n",
       "      <td>Erica Franklin DVM</td>\n",
       "      <td>56855833-4f68-4312-b5e0-88c7dc7ce72b</td>\n",
       "      <td>Online Banking</td>\n",
       "    </tr>\n",
       "    <tr>\n",
       "      <th>96</th>\n",
       "      <td>2021-07-04</td>\n",
       "      <td>South</td>\n",
       "      <td>Electronics</td>\n",
       "      <td>3</td>\n",
       "      <td>652.93</td>\n",
       "      <td>Ricky Walsh</td>\n",
       "      <td>7e03f607-9b90-4075-b05f-e704c81fb165</td>\n",
       "      <td>PayPal</td>\n",
       "    </tr>\n",
       "    <tr>\n",
       "      <th>97</th>\n",
       "      <td>2020-04-08</td>\n",
       "      <td>North</td>\n",
       "      <td>Books</td>\n",
       "      <td>9</td>\n",
       "      <td>640.88</td>\n",
       "      <td>Luis Wong</td>\n",
       "      <td>4f1f1533-6fb0-468d-80ac-a8c1db865b1a</td>\n",
       "      <td>Online Banking</td>\n",
       "    </tr>\n",
       "    <tr>\n",
       "      <th>98</th>\n",
       "      <td>2021-12-24</td>\n",
       "      <td>East</td>\n",
       "      <td>Electronics</td>\n",
       "      <td>1</td>\n",
       "      <td>727.21</td>\n",
       "      <td>Christopher Reese</td>\n",
       "      <td>0c3d09c3-469c-4b2f-860e-89365bab7f88</td>\n",
       "      <td>Online Banking</td>\n",
       "    </tr>\n",
       "    <tr>\n",
       "      <th>99</th>\n",
       "      <td>2020-10-04</td>\n",
       "      <td>South</td>\n",
       "      <td>Clothing</td>\n",
       "      <td>4</td>\n",
       "      <td>554.22</td>\n",
       "      <td>Barry Johnson</td>\n",
       "      <td>95921b52-e166-4d8f-86c6-2149cf1398d8</td>\n",
       "      <td>Credit Card</td>\n",
       "    </tr>\n",
       "  </tbody>\n",
       "</table>\n",
       "</div>"
      ],
      "text/plain": [
       "   Transaction Date Region Product Category  Quantity Sold  Sales Amount  \\\n",
       "95       2020-06-26   East      Electronics              3        914.06   \n",
       "96       2021-07-04  South      Electronics              3        652.93   \n",
       "97       2020-04-08  North            Books              9        640.88   \n",
       "98       2021-12-24   East      Electronics              1        727.21   \n",
       "99       2020-10-04  South         Clothing              4        554.22   \n",
       "\n",
       "         Customer Name                        Transaction ID  Payment Method  \n",
       "95  Erica Franklin DVM  56855833-4f68-4312-b5e0-88c7dc7ce72b  Online Banking  \n",
       "96         Ricky Walsh  7e03f607-9b90-4075-b05f-e704c81fb165          PayPal  \n",
       "97           Luis Wong  4f1f1533-6fb0-468d-80ac-a8c1db865b1a  Online Banking  \n",
       "98   Christopher Reese  0c3d09c3-469c-4b2f-860e-89365bab7f88  Online Banking  \n",
       "99       Barry Johnson  95921b52-e166-4d8f-86c6-2149cf1398d8     Credit Card  "
      ]
     },
     "execution_count": 7,
     "metadata": {},
     "output_type": "execute_result"
    }
   ],
   "source": [
    "df.tail()"
   ]
  },
  {
   "cell_type": "code",
   "execution_count": 8,
   "id": "a2124bdb-bdf7-459e-a2e6-7fc8105fb6f2",
   "metadata": {},
   "outputs": [],
   "source": [
    "# Step No2. - Explore the Dataset."
   ]
  },
  {
   "cell_type": "code",
   "execution_count": 9,
   "id": "def40c22-5a5c-414a-aa65-d2bdd386542e",
   "metadata": {},
   "outputs": [
    {
     "name": "stdout",
     "output_type": "stream",
     "text": [
      "<class 'pandas.core.frame.DataFrame'>\n",
      "RangeIndex: 100 entries, 0 to 99\n",
      "Data columns (total 8 columns):\n",
      " #   Column            Non-Null Count  Dtype  \n",
      "---  ------            --------------  -----  \n",
      " 0   Transaction Date  100 non-null    object \n",
      " 1   Region            100 non-null    object \n",
      " 2   Product Category  100 non-null    object \n",
      " 3   Quantity Sold     100 non-null    int64  \n",
      " 4   Sales Amount      100 non-null    float64\n",
      " 5   Customer Name     100 non-null    object \n",
      " 6   Transaction ID    100 non-null    object \n",
      " 7   Payment Method    100 non-null    object \n",
      "dtypes: float64(1), int64(1), object(6)\n",
      "memory usage: 6.4+ KB\n"
     ]
    }
   ],
   "source": [
    "df.info()"
   ]
  },
  {
   "cell_type": "code",
   "execution_count": 13,
   "id": "94c5fd10-e00e-4e7d-9c92-b65ec8bdd441",
   "metadata": {},
   "outputs": [
    {
     "data": {
      "text/html": [
       "<div>\n",
       "<style scoped>\n",
       "    .dataframe tbody tr th:only-of-type {\n",
       "        vertical-align: middle;\n",
       "    }\n",
       "\n",
       "    .dataframe tbody tr th {\n",
       "        vertical-align: top;\n",
       "    }\n",
       "\n",
       "    .dataframe thead th {\n",
       "        text-align: right;\n",
       "    }\n",
       "</style>\n",
       "<table border=\"1\" class=\"dataframe\">\n",
       "  <thead>\n",
       "    <tr style=\"text-align: right;\">\n",
       "      <th></th>\n",
       "      <th>Quantity Sold</th>\n",
       "      <th>Sales Amount</th>\n",
       "    </tr>\n",
       "  </thead>\n",
       "  <tbody>\n",
       "    <tr>\n",
       "      <th>count</th>\n",
       "      <td>100.000000</td>\n",
       "      <td>100.000000</td>\n",
       "    </tr>\n",
       "    <tr>\n",
       "      <th>mean</th>\n",
       "      <td>5.700000</td>\n",
       "      <td>544.873300</td>\n",
       "    </tr>\n",
       "    <tr>\n",
       "      <th>std</th>\n",
       "      <td>2.904194</td>\n",
       "      <td>276.530738</td>\n",
       "    </tr>\n",
       "    <tr>\n",
       "      <th>min</th>\n",
       "      <td>1.000000</td>\n",
       "      <td>23.140000</td>\n",
       "    </tr>\n",
       "    <tr>\n",
       "      <th>25%</th>\n",
       "      <td>3.000000</td>\n",
       "      <td>336.295000</td>\n",
       "    </tr>\n",
       "    <tr>\n",
       "      <th>50%</th>\n",
       "      <td>5.500000</td>\n",
       "      <td>554.715000</td>\n",
       "    </tr>\n",
       "    <tr>\n",
       "      <th>75%</th>\n",
       "      <td>8.000000</td>\n",
       "      <td>781.757500</td>\n",
       "    </tr>\n",
       "    <tr>\n",
       "      <th>max</th>\n",
       "      <td>10.000000</td>\n",
       "      <td>984.850000</td>\n",
       "    </tr>\n",
       "  </tbody>\n",
       "</table>\n",
       "</div>"
      ],
      "text/plain": [
       "       Quantity Sold  Sales Amount\n",
       "count     100.000000    100.000000\n",
       "mean        5.700000    544.873300\n",
       "std         2.904194    276.530738\n",
       "min         1.000000     23.140000\n",
       "25%         3.000000    336.295000\n",
       "50%         5.500000    554.715000\n",
       "75%         8.000000    781.757500\n",
       "max        10.000000    984.850000"
      ]
     },
     "execution_count": 13,
     "metadata": {},
     "output_type": "execute_result"
    }
   ],
   "source": [
    "df.describe()"
   ]
  },
  {
   "cell_type": "code",
   "execution_count": 14,
   "id": "3eff7000-d87e-444e-b5f3-8a1152472c62",
   "metadata": {},
   "outputs": [
    {
     "data": {
      "text/plain": [
       "(100, 8)"
      ]
     },
     "execution_count": 14,
     "metadata": {},
     "output_type": "execute_result"
    }
   ],
   "source": [
    "df.shape"
   ]
  },
  {
   "cell_type": "code",
   "execution_count": 15,
   "id": "ff03d177-2831-4067-8380-5289907c5e6c",
   "metadata": {},
   "outputs": [
    {
     "data": {
      "text/plain": [
       "Index(['Transaction Date', 'Region', 'Product Category', 'Quantity Sold',\n",
       "       'Sales Amount', 'Customer Name', 'Transaction ID', 'Payment Method'],\n",
       "      dtype='object')"
      ]
     },
     "execution_count": 15,
     "metadata": {},
     "output_type": "execute_result"
    }
   ],
   "source": [
    "df.columns"
   ]
  },
  {
   "cell_type": "code",
   "execution_count": 16,
   "id": "29de9e2a-34ca-47ac-ad99-66000d94a500",
   "metadata": {},
   "outputs": [
    {
     "data": {
      "text/plain": [
       "Transaction Date     object\n",
       "Region               object\n",
       "Product Category     object\n",
       "Quantity Sold         int64\n",
       "Sales Amount        float64\n",
       "Customer Name        object\n",
       "Transaction ID       object\n",
       "Payment Method       object\n",
       "dtype: object"
      ]
     },
     "execution_count": 16,
     "metadata": {},
     "output_type": "execute_result"
    }
   ],
   "source": [
    "df.dtypes"
   ]
  },
  {
   "cell_type": "code",
   "execution_count": 18,
   "id": "891e3c99-e99e-4991-917e-c16690ec3b04",
   "metadata": {},
   "outputs": [],
   "source": [
    "# Step No.3 - Identify relevant variables."
   ]
  },
  {
   "cell_type": "code",
   "execution_count": 22,
   "id": "82f84962-8874-4d90-920d-75fa1541ec2c",
   "metadata": {},
   "outputs": [
    {
     "data": {
      "text/plain": [
       "array(['West', 'North', 'East', 'South'], dtype=object)"
      ]
     },
     "execution_count": 22,
     "metadata": {},
     "output_type": "execute_result"
    }
   ],
   "source": [
    "df['Region'].unique()\n",
    "\n"
   ]
  },
  {
   "cell_type": "code",
   "execution_count": 23,
   "id": "0467192f-d2d7-423a-8011-8fb06f1b9e59",
   "metadata": {},
   "outputs": [
    {
     "data": {
      "text/plain": [
       "count    100.000000\n",
       "mean     544.873300\n",
       "std      276.530738\n",
       "min       23.140000\n",
       "25%      336.295000\n",
       "50%      554.715000\n",
       "75%      781.757500\n",
       "max      984.850000\n",
       "Name: Sales Amount, dtype: float64"
      ]
     },
     "execution_count": 23,
     "metadata": {},
     "output_type": "execute_result"
    }
   ],
   "source": [
    "df['Sales Amount'].describe()\n"
   ]
  },
  {
   "cell_type": "code",
   "execution_count": 24,
   "id": "54e57555-dc9f-48af-85f4-1a53fca451b5",
   "metadata": {},
   "outputs": [
    {
     "data": {
      "text/plain": [
       "array(['Home Decor', 'Clothing', 'Electronics', 'Books'], dtype=object)"
      ]
     },
     "execution_count": 24,
     "metadata": {},
     "output_type": "execute_result"
    }
   ],
   "source": [
    "df['Product Category'].unique()"
   ]
  },
  {
   "cell_type": "code",
   "execution_count": 31,
   "id": "7193d154-2ba2-467b-b91c-525cee7146f7",
   "metadata": {},
   "outputs": [],
   "source": [
    "# Step No.4 - Group sales data by region and calculate total sales amount."
   ]
  },
  {
   "cell_type": "code",
   "execution_count": 32,
   "id": "491c4904-6701-417b-8b73-ac76710d747b",
   "metadata": {},
   "outputs": [
    {
     "data": {
      "text/html": [
       "<div>\n",
       "<style scoped>\n",
       "    .dataframe tbody tr th:only-of-type {\n",
       "        vertical-align: middle;\n",
       "    }\n",
       "\n",
       "    .dataframe tbody tr th {\n",
       "        vertical-align: top;\n",
       "    }\n",
       "\n",
       "    .dataframe thead th {\n",
       "        text-align: right;\n",
       "    }\n",
       "</style>\n",
       "<table border=\"1\" class=\"dataframe\">\n",
       "  <thead>\n",
       "    <tr style=\"text-align: right;\">\n",
       "      <th></th>\n",
       "      <th>Region</th>\n",
       "      <th>Sales Amount</th>\n",
       "    </tr>\n",
       "  </thead>\n",
       "  <tbody>\n",
       "    <tr>\n",
       "      <th>0</th>\n",
       "      <td>East</td>\n",
       "      <td>14382.28</td>\n",
       "    </tr>\n",
       "    <tr>\n",
       "      <th>1</th>\n",
       "      <td>North</td>\n",
       "      <td>13031.74</td>\n",
       "    </tr>\n",
       "    <tr>\n",
       "      <th>2</th>\n",
       "      <td>South</td>\n",
       "      <td>11300.33</td>\n",
       "    </tr>\n",
       "    <tr>\n",
       "      <th>3</th>\n",
       "      <td>West</td>\n",
       "      <td>15772.98</td>\n",
       "    </tr>\n",
       "  </tbody>\n",
       "</table>\n",
       "</div>"
      ],
      "text/plain": [
       "  Region  Sales Amount\n",
       "0   East      14382.28\n",
       "1  North      13031.74\n",
       "2  South      11300.33\n",
       "3   West      15772.98"
      ]
     },
     "execution_count": 32,
     "metadata": {},
     "output_type": "execute_result"
    }
   ],
   "source": [
    "sales_by_region = df.groupby('Region')['Sales Amount'].sum().reset_index()\n",
    "sales_by_region"
   ]
  },
  {
   "cell_type": "code",
   "execution_count": 33,
   "id": "d7cf6cf7-c0c1-4376-a115-85985b2a7463",
   "metadata": {},
   "outputs": [],
   "source": [
    "# Step No.5 - Create bar plots or pie charts to visualize the sales distribution by region."
   ]
  },
  {
   "cell_type": "code",
   "execution_count": 35,
   "id": "9d01bbf6-1a66-4a59-9f14-eec79cb5a727",
   "metadata": {},
   "outputs": [
    {
     "data": {
      "image/png": "[encoded data removed]",
      "text/plain": [
       "<Figure size 1000x600 with 1 Axes>"
      ]
     },
     "metadata": {},
     "output_type": "display_data"
    }
   ],
   "source": [
    "import matplotlib.pyplot as plt\n",
    "\n",
    "# Bar plot\n",
    "plt.figure(figsize=(10, 6))\n",
    "plt.bar(sales_by_region['Region'], sales_by_region['Sales Amount'])\n",
    "plt.xlabel('Region')\n",
    "plt.ylabel('Total Sales Amount')\n",
    "plt.title('Sales Distribution by Region')\n",
    "plt.xticks(rotation=45)\n",
    "plt.show()\n",
    "\n"
   ]
  },
  {
   "cell_type": "code",
   "execution_count": 37,
   "id": "b1593f58-aeb8-47ee-b335-6e01b0967e3d",
   "metadata": {},
   "outputs": [
    {
     "data": {
      "image/png": "[encoded data removed]",
      "text/plain": [
       "<Figure size 800x800 with 1 Axes>"
      ]
     },
     "metadata": {},
     "output_type": "display_data"
    }
   ],
   "source": [
    "# Pie chart\n",
    "plt.figure(figsize=(8, 8))\n",
    "plt.pie(sales_by_region['Sales Amount'], labels=sales_by_region['Region'], autopct='%1.1f%%')\n",
    "plt.title('Sales Distribution by Region')\n",
    "plt.show()\n"
   ]
  },
  {
   "cell_type": "code",
   "execution_count": 38,
   "id": "8ecd9912-5021-41e2-b465-cd46d103e9d1",
   "metadata": {},
   "outputs": [],
   "source": [
    "# Step No.6 - Identify top-performing regions."
   ]
  },
  {
   "cell_type": "code",
   "execution_count": 40,
   "id": "bb429d38-9fcc-4c16-a92e-8247be748749",
   "metadata": {},
   "outputs": [
    {
     "data": {
      "text/html": [
       "<div>\n",
       "<style scoped>\n",
       "    .dataframe tbody tr th:only-of-type {\n",
       "        vertical-align: middle;\n",
       "    }\n",
       "\n",
       "    .dataframe tbody tr th {\n",
       "        vertical-align: top;\n",
       "    }\n",
       "\n",
       "    .dataframe thead th {\n",
       "        text-align: right;\n",
       "    }\n",
       "</style>\n",
       "<table border=\"1\" class=\"dataframe\">\n",
       "  <thead>\n",
       "    <tr style=\"text-align: right;\">\n",
       "      <th></th>\n",
       "      <th>Region</th>\n",
       "      <th>Sales Amount</th>\n",
       "    </tr>\n",
       "  </thead>\n",
       "  <tbody>\n",
       "    <tr>\n",
       "      <th>3</th>\n",
       "      <td>West</td>\n",
       "      <td>15772.98</td>\n",
       "    </tr>\n",
       "    <tr>\n",
       "      <th>0</th>\n",
       "      <td>East</td>\n",
       "      <td>14382.28</td>\n",
       "    </tr>\n",
       "    <tr>\n",
       "      <th>1</th>\n",
       "      <td>North</td>\n",
       "      <td>13031.74</td>\n",
       "    </tr>\n",
       "    <tr>\n",
       "      <th>2</th>\n",
       "      <td>South</td>\n",
       "      <td>11300.33</td>\n",
       "    </tr>\n",
       "  </tbody>\n",
       "</table>\n",
       "</div>"
      ],
      "text/plain": [
       "  Region  Sales Amount\n",
       "3   West      15772.98\n",
       "0   East      14382.28\n",
       "1  North      13031.74\n",
       "2  South      11300.33"
      ]
     },
     "execution_count": 40,
     "metadata": {},
     "output_type": "execute_result"
    }
   ],
   "source": [
    "# Sort the regions by sales amount in descending order\n",
    "top_regions = sales_by_region.sort_values(by='Sales Amount', ascending=False)\n",
    "top_regions\n"
   ]
  },
  {
   "cell_type": "code",
   "execution_count": 41,
   "id": "3312f17b-c38a-4ca1-ae46-769b3eaa0d42",
   "metadata": {},
   "outputs": [],
   "source": [
    "# Step No.7 - Group sales data by region and product category to calculate total sales amount for each combination."
   ]
  },
  {
   "cell_type": "code",
   "execution_count": 43,
   "id": "732eab9a-62fa-4861-b8a7-29b84b452f32",
   "metadata": {},
   "outputs": [],
   "source": [
    "sales_by_region_category = df.groupby(['Region', 'Product Category'])['Sales Amount'].sum().unstack().fillna(0)"
   ]
  },
  {
   "cell_type": "code",
   "execution_count": 44,
   "id": "d53d961c-f6cf-492c-90f7-a453fd5541b5",
   "metadata": {},
   "outputs": [
    {
     "data": {
      "text/html": [
       "<div>\n",
       "<style scoped>\n",
       "    .dataframe tbody tr th:only-of-type {\n",
       "        vertical-align: middle;\n",
       "    }\n",
       "\n",
       "    .dataframe tbody tr th {\n",
       "        vertical-align: top;\n",
       "    }\n",
       "\n",
       "    .dataframe thead th {\n",
       "        text-align: right;\n",
       "    }\n",
       "</style>\n",
       "<table border=\"1\" class=\"dataframe\">\n",
       "  <thead>\n",
       "    <tr style=\"text-align: right;\">\n",
       "      <th>Product Category</th>\n",
       "      <th>Books</th>\n",
       "      <th>Clothing</th>\n",
       "      <th>Electronics</th>\n",
       "      <th>Home Decor</th>\n",
       "    </tr>\n",
       "    <tr>\n",
       "      <th>Region</th>\n",
       "      <th></th>\n",
       "      <th></th>\n",
       "      <th></th>\n",
       "      <th></th>\n",
       "    </tr>\n",
       "  </thead>\n",
       "  <tbody>\n",
       "    <tr>\n",
       "      <th>East</th>\n",
       "      <td>759.89</td>\n",
       "      <td>4293.54</td>\n",
       "      <td>6153.44</td>\n",
       "      <td>3175.41</td>\n",
       "    </tr>\n",
       "    <tr>\n",
       "      <th>North</th>\n",
       "      <td>2235.48</td>\n",
       "      <td>4121.55</td>\n",
       "      <td>3208.94</td>\n",
       "      <td>3465.77</td>\n",
       "    </tr>\n",
       "    <tr>\n",
       "      <th>South</th>\n",
       "      <td>573.38</td>\n",
       "      <td>4977.85</td>\n",
       "      <td>2581.59</td>\n",
       "      <td>3167.51</td>\n",
       "    </tr>\n",
       "    <tr>\n",
       "      <th>West</th>\n",
       "      <td>4907.12</td>\n",
       "      <td>3185.51</td>\n",
       "      <td>3043.47</td>\n",
       "      <td>4636.88</td>\n",
       "    </tr>\n",
       "  </tbody>\n",
       "</table>\n",
       "</div>"
      ],
      "text/plain": [
       "Product Category    Books  Clothing  Electronics  Home Decor\n",
       "Region                                                      \n",
       "East               759.89   4293.54      6153.44     3175.41\n",
       "North             2235.48   4121.55      3208.94     3465.77\n",
       "South              573.38   4977.85      2581.59     3167.51\n",
       "West              4907.12   3185.51      3043.47     4636.88"
      ]
     },
     "execution_count": 44,
     "metadata": {},
     "output_type": "execute_result"
    }
   ],
   "source": [
    "sales_by_region_category "
   ]
  },
  {
   "cell_type": "code",
   "execution_count": 45,
   "id": "67e75212-aea5-4432-a7ef-0bbd5861d050",
   "metadata": {},
   "outputs": [],
   "source": [
    "# Step No.8 - Create stacked bar plots or grouped bar plots."
   ]
  },
  {
   "cell_type": "code",
   "execution_count": 46,
   "id": "d0bf1eb2-9462-42b3-80cf-16f3ce3ab017",
   "metadata": {},
   "outputs": [
    {
     "data": {
      "image/png": "[encoded data removed]",
      "text/plain": [
       "<Figure size 1200x800 with 1 Axes>"
      ]
     },
     "metadata": {},
     "output_type": "display_data"
    }
   ],
   "source": [
    "# Stacked bar plot\n",
    "sales_by_region_category.plot(kind='bar', stacked=True, figsize=(12, 8))\n",
    "plt.xlabel('Region')\n",
    "plt.ylabel('Total Sales Amount')\n",
    "plt.title('Sales Distribution by Region and Product Category')\n",
    "plt.legend(title='Product Category', bbox_to_anchor=(1.05, 1), loc='upper left')\n",
    "plt.xticks(rotation=45)\n",
    "plt.show()"
   ]
  },
  {
   "cell_type": "code",
   "execution_count": 47,
   "id": "91009924-8c00-4b71-9126-8ce6f7f6be1f",
   "metadata": {},
   "outputs": [
    {
     "data": {
      "text/plain": [
       "<matplotlib.legend.Legend at 0x1e27034cd30>"
      ]
     },
     "execution_count": 47,
     "metadata": {},
     "output_type": "execute_result"
    },
    {
     "data": {
      "image/png": "[encoded data removed]",
      "text/plain": [
       "<Figure size 1200x800 with 1 Axes>"
      ]
     },
     "metadata": {},
     "output_type": "display_data"
    }
   ],
   "source": [
    "# Grouped bar plot\n",
    "sales_by_region_category.plot(kind='bar', figsize=(12, 8))\n",
    "plt.xlabel('Region')\n",
    "plt.ylabel('Total Sales Amount')\n",
    "plt.title('Sales Distribution by Region and Product Category')\n",
    "plt.legend(title='Product Category', bbox_to_anchor=(1.05, 1), loc='upper left')"
   ]
  },
  {
   "cell_type": "code",
   "execution_count": null,
   "id": "91f0bb61-a336-47a9-98d0-88f639b77420",
   "metadata": {},
   "outputs": [],
   "source": []
  }
 ],
 "metadata": {
  "kernelspec": {
   "display_name": "Python 3 (ipykernel)",
   "language": "python",
   "name": "python3"
  },
  "language_info": {
   "codemirror_mode": {
    "name": "ipython",
    "version": 3
   },
   "file_extension": ".py",
   "mimetype": "text/x-python",
   "name": "python",
   "nbconvert_exporter": "python",
   "pygments_lexer": "ipython3",
   "version": "3.12.4"
  }
 },
 "nbformat": 4,
 "nbformat_minor": 5
}
