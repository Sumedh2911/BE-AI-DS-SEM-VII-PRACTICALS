{
 "cells": [
  {
   "cell_type": "code",
   "execution_count": null,
   "id": "fadac363-eaeb-49d3-9e38-bed485566a84",
   "metadata": {},
   "outputs": [],
   "source": [
    "Name - Dhangar Sumedh Dilip\n",
    "Class - BE Artificial Intelligence and Data Science.\n",
    "Roll No - 15\n",
    "Title - Write a program for pre-processing of a text document such as stop word removal, stemming. "
   ]
  },
  {
   "cell_type": "code",
   "execution_count": 1,
   "id": "fac2924e-f9ad-4d0d-b2f6-2b1057aded36",
   "metadata": {},
   "outputs": [],
   "source": [
    "# Step No.1 - Import Required Libraries."
   ]
  },
  {
   "cell_type": "code",
   "execution_count": 2,
   "id": "abba4c13-365a-4986-86fb-53edff7294d3",
   "metadata": {},
   "outputs": [],
   "source": [
    "import nltk\n",
    "from nltk.corpus import stopwords\n",
    "from nltk.tokenize import word_tokenize\n",
    "from nltk.stem import PorterStemmer\n",
    "import string"
   ]
  },
  {
   "cell_type": "code",
   "execution_count": 3,
   "id": "71174141-efbc-4b73-b564-29acb9ec5929",
   "metadata": {},
   "outputs": [],
   "source": [
    "# Step No.2 - Download NLTK Data."
   ]
  },
  {
   "cell_type": "code",
   "execution_count": 4,
   "id": "f81f589c-19b6-42e5-80d6-b314a309d2b1",
   "metadata": {},
   "outputs": [
    {
     "name": "stderr",
     "output_type": "stream",
     "text": [
      "[nltk_data] Downloading package punkt to\n",
      "[nltk_data]     C:\\Users\\saira\\AppData\\Roaming\\nltk_data...\n",
      "[nltk_data]   Package punkt is already up-to-date!\n",
      "[nltk_data] Downloading package stopwords to\n",
      "[nltk_data]     C:\\Users\\saira\\AppData\\Roaming\\nltk_data...\n",
      "[nltk_data]   Package stopwords is already up-to-date!\n"
     ]
    },
    {
     "data": {
      "text/plain": [
       "True"
      ]
     },
     "execution_count": 4,
     "metadata": {},
     "output_type": "execute_result"
    }
   ],
   "source": [
    "nltk.download('punkt')\n",
    "nltk.download('stopwords')\n"
   ]
  },
  {
   "cell_type": "code",
   "execution_count": 5,
   "id": "c01d4a14-9c5c-478c-a4da-b525cfe4c5d4",
   "metadata": {},
   "outputs": [],
   "source": [
    "# Step No.3 - Load and Tokenize the Text."
   ]
  },
  {
   "cell_type": "code",
   "execution_count": 7,
   "id": "f45ecb3a-33da-4a19-9251-1dd56a4d1f23",
   "metadata": {},
   "outputs": [
    {
     "data": {
      "text/plain": [
       "['This',\n",
       " 'is',\n",
       " 'a',\n",
       " 'sample',\n",
       " 'text',\n",
       " 'document',\n",
       " 'for',\n",
       " 'demonstrating',\n",
       " 'text',\n",
       " 'pre-processing',\n",
       " '.',\n",
       " 'It',\n",
       " 'includes',\n",
       " 'several',\n",
       " 'sentences',\n",
       " 'with',\n",
       " 'various',\n",
       " 'words',\n",
       " '.']"
      ]
     },
     "execution_count": 7,
     "metadata": {},
     "output_type": "execute_result"
    }
   ],
   "source": [
    "text = \"\"\"\n",
    "This is a sample text document for demonstrating text pre-processing.\n",
    "It includes several sentences with various words.\n",
    "\"\"\"\n",
    "\n",
    "# Tokenize the text\n",
    "words = word_tokenize(text)\n",
    "words\n"
   ]
  },
  {
   "cell_type": "code",
   "execution_count": 8,
   "id": "4a9bff2d-b9e7-4c0a-946b-a4bc53a27604",
   "metadata": {},
   "outputs": [],
   "source": [
    "# Step No.4 - Convert to Lowercase."
   ]
  },
  {
   "cell_type": "code",
   "execution_count": 9,
   "id": "171922b5-c1d7-4bf1-bf63-c34122153282",
   "metadata": {},
   "outputs": [
    {
     "data": {
      "text/plain": [
       "['this',\n",
       " 'is',\n",
       " 'a',\n",
       " 'sample',\n",
       " 'text',\n",
       " 'document',\n",
       " 'for',\n",
       " 'demonstrating',\n",
       " 'text',\n",
       " 'pre-processing',\n",
       " '.',\n",
       " 'it',\n",
       " 'includes',\n",
       " 'several',\n",
       " 'sentences',\n",
       " 'with',\n",
       " 'various',\n",
       " 'words',\n",
       " '.']"
      ]
     },
     "execution_count": 9,
     "metadata": {},
     "output_type": "execute_result"
    }
   ],
   "source": [
    "words = [word.lower() for word in words]\n",
    "words\n"
   ]
  },
  {
   "cell_type": "code",
   "execution_count": 10,
   "id": "90d80c50-20c9-4f68-a7e0-f580fbf78ec2",
   "metadata": {},
   "outputs": [],
   "source": [
    "# Step No.5 - Remove Punctuation."
   ]
  },
  {
   "cell_type": "code",
   "execution_count": 11,
   "id": "ed1e688c-3422-4ebc-965c-70f464812843",
   "metadata": {},
   "outputs": [
    {
     "data": {
      "text/plain": [
       "['this',\n",
       " 'is',\n",
       " 'a',\n",
       " 'sample',\n",
       " 'text',\n",
       " 'document',\n",
       " 'for',\n",
       " 'demonstrating',\n",
       " 'text',\n",
       " 'it',\n",
       " 'includes',\n",
       " 'several',\n",
       " 'sentences',\n",
       " 'with',\n",
       " 'various',\n",
       " 'words']"
      ]
     },
     "execution_count": 11,
     "metadata": {},
     "output_type": "execute_result"
    }
   ],
   "source": [
    "words = [word for word in words if word.isalpha()]\n",
    "words\n"
   ]
  },
  {
   "cell_type": "code",
   "execution_count": 12,
   "id": "2b1435a2-1dd7-4dbd-b9d9-85124645b611",
   "metadata": {},
   "outputs": [],
   "source": [
    "# Step No.6 - Remove Stop Words."
   ]
  },
  {
   "cell_type": "code",
   "execution_count": 13,
   "id": "1e4a634a-5981-4405-8583-b18c6b77f795",
   "metadata": {},
   "outputs": [
    {
     "data": {
      "text/plain": [
       "['sample',\n",
       " 'text',\n",
       " 'document',\n",
       " 'demonstrating',\n",
       " 'text',\n",
       " 'includes',\n",
       " 'several',\n",
       " 'sentences',\n",
       " 'various',\n",
       " 'words']"
      ]
     },
     "execution_count": 13,
     "metadata": {},
     "output_type": "execute_result"
    }
   ],
   "source": [
    "stop_words = set(stopwords.words('english'))\n",
    "words = [word for word in words if word not in stop_words]\n",
    "words\n"
   ]
  },
  {
   "cell_type": "code",
   "execution_count": 14,
   "id": "4fc6612a-00f8-4b54-b49b-e55d97212eba",
   "metadata": {},
   "outputs": [],
   "source": [
    "# Step No.7 - Stemming."
   ]
  },
  {
   "cell_type": "code",
   "execution_count": 15,
   "id": "46ff26ad-ac12-4f51-bbbf-35c061e33af8",
   "metadata": {},
   "outputs": [
    {
     "data": {
      "text/plain": [
       "['sampl',\n",
       " 'text',\n",
       " 'document',\n",
       " 'demonstr',\n",
       " 'text',\n",
       " 'includ',\n",
       " 'sever',\n",
       " 'sentenc',\n",
       " 'variou',\n",
       " 'word']"
      ]
     },
     "execution_count": 15,
     "metadata": {},
     "output_type": "execute_result"
    }
   ],
   "source": [
    "stemmer = PorterStemmer()\n",
    "stemmed_words = [stemmer.stem(word) for word in words]\n",
    "stemmed_words\n"
   ]
  },
  {
   "cell_type": "code",
   "execution_count": null,
   "id": "cbcdbc2a-816b-45c0-b15a-b54fca79a1a0",
   "metadata": {},
   "outputs": [],
   "source": []
  }
 ],
 "metadata": {
  "kernelspec": {
   "display_name": "Python 3 (ipykernel)",
   "language": "python",
   "name": "python3"
  },
  "language_info": {
   "codemirror_mode": {
    "name": "ipython",
    "version": 3
   },
   "file_extension": ".py",
   "mimetype": "text/x-python",
   "name": "python",
   "nbconvert_exporter": "python",
   "pygments_lexer": "ipython3",
   "version": "3.13.0"
  }
 },
 "nbformat": 4,
 "nbformat_minor": 5
}
