{
 "cells": [
  {
   "cell_type": "code",
   "execution_count": null,
   "id": "2b8f8479-78be-4258-b537-4ea09610af1c",
   "metadata": {},
   "outputs": [],
   "source": [
    "Name - Dhangar Sumedh Dilip\n",
    "Class - BE Artificial Intelligence and Data Science.\n",
    "Roll No - 15\n",
    "Title - Implement a program for retrieval of documents using inverted files. "
   ]
  },
  {
   "cell_type": "code",
   "execution_count": 2,
   "id": "a983d402-761b-46f3-9fbe-2128066cf24e",
   "metadata": {},
   "outputs": [],
   "source": [
    "from collections import defaultdict\n",
    "\n",
    "def build_inverted_index(documents):\n",
    "    inverted_index = defaultdict(set)\n",
    "    for doc_id, doc in enumerate(documents):\n",
    "        tokens = doc.split()\n",
    "        for token in tokens:\n",
    "            inverted_index[token].add(doc_id)\n",
    "    return inverted_index\n",
    "\n",
    "def search_query(inverted_index, query):\n",
    "    query_tokens = query.split()\n",
    "    result_sets = [inverted_index.get(token, set()) for token in query_tokens]\n",
    "    if not result_sets:\n",
    "        return set()\n",
    "    result = set.intersection(*result_sets)\n",
    "    return result"
   ]
  },
  {
   "cell_type": "code",
   "execution_count": 3,
   "id": "e45c13a1-2f3d-438d-b7fc-7ae62aa0cbe4",
   "metadata": {},
   "outputs": [],
   "source": [
    "documents = [\n",
    "    \"the quick brown fox\",\n",
    "    \"the lazy dog\",\n",
    "    \"the quick brown dog jumps\"\n",
    "]\n"
   ]
  },
  {
   "cell_type": "code",
   "execution_count": 4,
   "id": "1b77a5b5-e15e-4fe9-8194-7ca7e41e8d73",
   "metadata": {},
   "outputs": [
    {
     "data": {
      "text/plain": [
       "defaultdict(set,\n",
       "            {'the': {0, 1, 2},\n",
       "             'quick': {0, 2},\n",
       "             'brown': {0, 2},\n",
       "             'fox': {0},\n",
       "             'lazy': {1},\n",
       "             'dog': {1, 2},\n",
       "             'jumps': {2}})"
      ]
     },
     "execution_count": 4,
     "metadata": {},
     "output_type": "execute_result"
    }
   ],
   "source": [
    "inverted_index = build_inverted_index(documents)\n",
    "inverted_index"
   ]
  },
  {
   "cell_type": "code",
   "execution_count": 5,
   "id": "69428fa4-0ccd-4f9c-8cb8-219c543f2e90",
   "metadata": {},
   "outputs": [
    {
     "data": {
      "text/plain": [
       "{0, 2}"
      ]
     },
     "execution_count": 5,
     "metadata": {},
     "output_type": "execute_result"
    }
   ],
   "source": [
    "query = \"quick brown\"\n",
    "result_docs = search_query(inverted_index, query)\n",
    "result_docs"
   ]
  },
  {
   "cell_type": "code",
   "execution_count": 6,
   "id": "e394d43e-04c1-439e-b054-4f390ce727d2",
   "metadata": {},
   "outputs": [
    {
     "name": "stdout",
     "output_type": "stream",
     "text": [
      "Documents matching query: {0, 2}\n",
      "Document 0: the quick brown fox\n",
      "Document 2: the quick brown dog jumps\n"
     ]
    }
   ],
   "source": [
    "print(\"Documents matching query:\", result_docs)\n",
    "for doc_id in result_docs:\n",
    "    print(f\"Document {doc_id}: {documents[doc_id]}\")"
   ]
  },
  {
   "cell_type": "code",
   "execution_count": null,
   "id": "99476008-41af-4fd7-8267-5638be222e6c",
   "metadata": {},
   "outputs": [],
   "source": []
  }
 ],
 "metadata": {
  "kernelspec": {
   "display_name": "Python 3 (ipykernel)",
   "language": "python",
   "name": "python3"
  },
  "language_info": {
   "codemirror_mode": {
    "name": "ipython",
    "version": 3
   },
   "file_extension": ".py",
   "mimetype": "text/x-python",
   "name": "python",
   "nbconvert_exporter": "python",
   "pygments_lexer": "ipython3",
   "version": "3.13.0"
  }
 },
 "nbformat": 4,
 "nbformat_minor": 5
}
